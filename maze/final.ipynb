{
 "cells": [
  {
   "cell_type": "code",
   "execution_count": 3,
   "metadata": {},
   "outputs": [
    {
     "name": "stdout",
     "output_type": "stream",
     "text": [
      "pygame 2.0.1 (SDL 2.0.14, Python 3.8.5)\n",
      "Hello from the pygame community. https://www.pygame.org/contribute.html\n"
     ]
    }
   ],
   "source": [
    "from app.maze import Maze\n",
    "from app.socket import Server\n",
    "from app.display import Display\n",
    "from app.controller import Controller"
   ]
  },
  {
   "cell_type": "code",
   "execution_count": 4,
   "metadata": {},
   "outputs": [],
   "source": [
    "max_x, max_y = 20, 20\n",
    "\n",
    "padding = 10\n",
    "aspect_ratio = max_x / max_y\n",
    "\n",
    "height = 500\n",
    "width = int(height * aspect_ratio)\n",
    "\n",
    "maze = Maze(max_x, max_y)\n",
    "maze.make_maze()"
   ]
  },
  {
   "cell_type": "code",
   "execution_count": null,
   "metadata": {},
   "outputs": [],
   "source": [
    "maze.subject.turn_left"
   ]
  },
  {
   "cell_type": "code",
   "execution_count": 3,
   "metadata": {},
   "outputs": [],
   "source": [
    "display = Display(height=height, width=width, padding=padding)\n",
    "server = Server(\"localhost\", 1234)"
   ]
  },
  {
   "cell_type": "code",
   "execution_count": 4,
   "metadata": {},
   "outputs": [],
   "source": [
    "Controller.init(2)"
   ]
  },
  {
   "cell_type": "code",
   "execution_count": 5,
   "metadata": {},
   "outputs": [
    {
     "name": "stderr",
     "output_type": "stream",
     "text": [
      "Task exception was never retrieved\n",
      "future: <Task finished name='Task-3' coro=<Server._handle_client() done, defined at C:\\Users\\gabri\\OneDrive\\maze\\app\\socket.py:58> exception=JSONDecodeError('Expecting value: line 1 column 1 (char 0)')>\n",
      "Traceback (most recent call last):\n",
      "  File \"C:\\Users\\gabri\\OneDrive\\maze\\app\\socket.py\", line 72, in _handle_client\n",
      "    await self._admin(client)\n",
      "  File \"C:\\Users\\gabri\\OneDrive\\maze\\app\\socket.py\", line 55, in _admin\n",
      "    self.maze.set_end(*json.loads(arg))\n",
      "  File \"C:\\Users\\gabri\\anaconda3\\lib\\json\\__init__.py\", line 357, in loads\n",
      "    return _default_decoder.decode(s)\n",
      "  File \"C:\\Users\\gabri\\anaconda3\\lib\\json\\decoder.py\", line 337, in decode\n",
      "    obj, end = self.raw_decode(s, idx=_w(s, 0).end())\n",
      "  File \"C:\\Users\\gabri\\anaconda3\\lib\\json\\decoder.py\", line 355, in raw_decode\n",
      "    raise JSONDecodeError(\"Expecting value\", s, err.value) from None\n",
      "json.decoder.JSONDecodeError: Expecting value: line 1 column 1 (char 0)\n"
     ]
    }
   ],
   "source": [
    "task_display = Controller.start(display.run, maze)\n",
    "task_server = Controller.start(server.run, maze)"
   ]
  },
  {
   "cell_type": "code",
   "execution_count": null,
   "metadata": {},
   "outputs": [],
   "source": []
  }
 ],
 "metadata": {
  "kernelspec": {
   "display_name": "Python 3",
   "language": "python",
   "name": "python3"
  },
  "language_info": {
   "codemirror_mode": {
    "name": "ipython",
    "version": 3
   },
   "file_extension": ".py",
   "mimetype": "text/x-python",
   "name": "python",
   "nbconvert_exporter": "python",
   "pygments_lexer": "ipython3",
   "version": "3.8.5"
  }
 },
 "nbformat": 4,
 "nbformat_minor": 4
}
